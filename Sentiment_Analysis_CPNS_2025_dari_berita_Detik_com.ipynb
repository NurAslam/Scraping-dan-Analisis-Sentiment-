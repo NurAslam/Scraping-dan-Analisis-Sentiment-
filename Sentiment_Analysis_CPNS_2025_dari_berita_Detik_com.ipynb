{
  "nbformat": 4,
  "nbformat_minor": 0,
  "metadata": {
    "colab": {
      "provenance": []
    },
    "kernelspec": {
      "name": "python3",
      "display_name": "Python 3"
    },
    "language_info": {
      "name": "python"
    }
  },
  "cells": [
    {
      "cell_type": "code",
      "execution_count": 1,
      "metadata": {
        "id": "C2nfyixMfWBu"
      },
      "outputs": [],
      "source": [
        "import requests\n",
        "from bs4 import BeautifulSoup"
      ]
    },
    {
      "cell_type": "code",
      "source": [
        "import requests\n",
        "from bs4 import BeautifulSoup\n",
        "import pandas as pd\n",
        "\n",
        "url = \"https://www.detik.com/tag/cpns-2025\"\n",
        "\n",
        "response = requests.get(url)\n",
        "soup = BeautifulSoup(response.text, 'html.parser')\n",
        "\n",
        "news_items = soup.find_all('article')\n",
        "\n",
        "\n",
        "data = []\n",
        "for item in news_items:\n",
        "    title = item.find('h2', class_='title')\n",
        "    if title: # judul\n",
        "        title_text = title.text.strip()  # teks judul\n",
        "        link = item.find('a')['href']  # link dari tag <a>\n",
        "        data.append({'Judul': title_text, 'Link': link})\n",
        "\n",
        "df = pd.DataFrame(data)\n",
        "print(df)"
      ],
      "metadata": {
        "colab": {
          "base_uri": "https://localhost:8080/"
        },
        "id": "bAyznozBi9Pf",
        "outputId": "11941008-ae32-4681-be8d-353f2df0479a"
      },
      "execution_count": 12,
      "outputs": [
        {
          "output_type": "stream",
          "name": "stdout",
          "text": [
            "                                               Judul  \\\n",
            "0  Kapan Pendaftaran CPNS 2025 Dibuka? Simak Info...   \n",
            "1  Prediksi Formasi CPNS 2025 Buat Lulusan SMA, L...   \n",
            "2  Seleksi CPNS 2025 Siap Dibuka, Ini Perkiraan J...   \n",
            "3  Informasi CPNS 2025: Jadwal Pendaftaran, Forma...   \n",
            "4  Pendaftaran CPNS 2025: Jadwal, Syarat, hingga ...   \n",
            "5  Info Lengkap CPNS 2025, Kapan Pendaftaran Dibuka?   \n",
            "6  Kapan Pendaftaran CPNS 2025 Dibuka? Ini Update...   \n",
            "7  Sederet Instansi Umumkan Hasil Seleksi CPNS 20...   \n",
            "8  Cara Download Sertifikat SKD untuk CPNS 2025, ...   \n",
            "9  Kementerian Era Prabowo Tambah Banyak, Tahun D...   \n",
            "\n",
            "                                                Link  \n",
            "0  https://www.detik.com/edu/detikpedia/d-7808927...  \n",
            "1  https://www.detik.com/edu/detikpedia/d-7758825...  \n",
            "2  https://www.detik.com/edu/detikpedia/d-7745862...  \n",
            "3  https://www.detik.com/jateng/bisnis/d-7742332/...  \n",
            "4  https://www.detik.com/sulsel/berita/d-7733994/...  \n",
            "5  https://www.detik.com/jatim/berita/d-7733496/i...  \n",
            "6  https://www.detik.com/edu/detikpedia/d-7730509...  \n",
            "7  https://www.detik.com/sumbagsel/berita/d-77236...  \n",
            "8  https://www.detik.com/sumbagsel/berita/d-77023...  \n",
            "9  https://finance.detik.com/cpns/d-7702062/kemen...  \n"
          ]
        }
      ]
    },
    {
      "cell_type": "code",
      "source": [
        "from textblob import TextBlob\n",
        "\n",
        "def analyze_sentiment(text):\n",
        "    analysis = TextBlob(text)\n",
        "    if analysis.sentiment.polarity > 0:\n",
        "        return 'Positif'\n",
        "    elif analysis.sentiment.polarity < 0:\n",
        "        return 'Negatif'\n",
        "    else:\n",
        "        return 'Netral'\n",
        "\n",
        "df['Sentimen'] = df['Judul'].apply(analyze_sentiment)\n",
        "\n",
        "print(df)"
      ],
      "metadata": {
        "colab": {
          "base_uri": "https://localhost:8080/"
        },
        "id": "ALTvrRW1i9xw",
        "outputId": "7b7430c8-c7b5-4bc8-f0d0-4fc412050c8c"
      },
      "execution_count": 13,
      "outputs": [
        {
          "output_type": "stream",
          "name": "stdout",
          "text": [
            "                                               Judul  \\\n",
            "0  Kapan Pendaftaran CPNS 2025 Dibuka? Simak Info...   \n",
            "1  Prediksi Formasi CPNS 2025 Buat Lulusan SMA, L...   \n",
            "2  Seleksi CPNS 2025 Siap Dibuka, Ini Perkiraan J...   \n",
            "3  Informasi CPNS 2025: Jadwal Pendaftaran, Forma...   \n",
            "4  Pendaftaran CPNS 2025: Jadwal, Syarat, hingga ...   \n",
            "5  Info Lengkap CPNS 2025, Kapan Pendaftaran Dibuka?   \n",
            "6  Kapan Pendaftaran CPNS 2025 Dibuka? Ini Update...   \n",
            "7  Sederet Instansi Umumkan Hasil Seleksi CPNS 20...   \n",
            "8  Cara Download Sertifikat SKD untuk CPNS 2025, ...   \n",
            "9  Kementerian Era Prabowo Tambah Banyak, Tahun D...   \n",
            "\n",
            "                                                Link Sentimen  \n",
            "0  https://www.detik.com/edu/detikpedia/d-7808927...   Netral  \n",
            "1  https://www.detik.com/edu/detikpedia/d-7758825...   Netral  \n",
            "2  https://www.detik.com/edu/detikpedia/d-7745862...   Netral  \n",
            "3  https://www.detik.com/jateng/bisnis/d-7742332/...   Netral  \n",
            "4  https://www.detik.com/sulsel/berita/d-7733994/...   Netral  \n",
            "5  https://www.detik.com/jatim/berita/d-7733496/i...   Netral  \n",
            "6  https://www.detik.com/edu/detikpedia/d-7730509...   Netral  \n",
            "7  https://www.detik.com/sumbagsel/berita/d-77236...   Netral  \n",
            "8  https://www.detik.com/sumbagsel/berita/d-77023...   Netral  \n",
            "9  https://finance.detik.com/cpns/d-7702062/kemen...   Netral  \n"
          ]
        }
      ]
    },
    {
      "cell_type": "code",
      "source": [
        "import matplotlib.pyplot as plt\n",
        "\n",
        "sentimen_count = df['Sentimen'].value_counts()\n",
        "\n",
        "plt.figure(figsize=(8, 6))\n",
        "plt.pie(sentimen_count, labels=sentimen_count.index, autopct='%1.1f%%', colors=['green', 'red', 'blue'])\n",
        "plt.title('Analisis Sentimen Berita CPNS 2025')\n",
        "plt.show()"
      ],
      "metadata": {
        "colab": {
          "base_uri": "https://localhost:8080/",
          "height": 521
        },
        "id": "wgxSP7dVjwSO",
        "outputId": "b0fd7b7b-0b18-4831-9c3a-283882e20be2"
      },
      "execution_count": 14,
      "outputs": [
        {
          "output_type": "display_data",
          "data": {
            "text/plain": [
              "<Figure size 800x600 with 1 Axes>"
            ],
            "image/png": "[encoded data removed]"
          },
          "metadata": {}
        }
      ]
    },
    {
      "cell_type": "code",
      "source": [],
      "metadata": {
        "id": "_OPCfub9j0aT"
      },
      "execution_count": null,
      "outputs": []
    }
  ]
}